{
  "cells": [
    {
      "cell_type": "markdown",
      "metadata": {
        "id": "M-DGa20PaHnu"
      },
      "source": [
        "#Задача 1\n",
        "Написать функцию на вход которой подается строка, состоящая из латинских букв.\n",
        "Функция должна вернуть количество гласных букв (a, e, i, o, u) в этой строке. Написать тесты для кода"
      ]
    },
    {
      "cell_type": "code",
      "execution_count": 71,
      "metadata": {
        "id": "XvX8X_JJ6PCb"
      },
      "outputs": [
        {
          "name": "stdout",
          "output_type": "stream",
          "text": [
            "Test passed for empty string: expected 0, got 0\n",
            "Test passed for 'rhythm': expected 0, got 0\n",
            "Test passed for 'AhelkI': expected 3, got 3\n",
            "Test passed for 'a many words': expected 3, got 3\n",
            "Test passed for 'aeiouAEIOU': expected 10, got 10\n",
            "All tests completed.\n"
          ]
        }
      ],
      "source": [
        "def get_count_vowels(string: str) -> int:\n",
        "    vowels = set(\"aeiouAEIOU\")\n",
        "    return sum(1 for x in string if x in vowels)\n",
        "\n",
        "def test_get_count_vowels():\n",
        "    test_cases = [\n",
        "        (\"\", 0, \"empty string\"),\n",
        "        (\"rhythm\", 0, \"'rhythm'\"),\n",
        "        (\"AhelkI\", 3, \"'AhelkI'\"),\n",
        "        (\"a many words\", 3, \"'a many words'\"),\n",
        "        (\"aeiouAEIOU\", 10, \"'aeiouAEIOU'\")\n",
        "    ]\n",
        "\n",
        "    for string, expected, description in test_cases:\n",
        "        result = get_count_vowels(string)\n",
        "        assert result == expected, f\"Test failed for {description}: expected {expected}, got {result}\"\n",
        "        print(f\"Test passed for {description}: expected {expected}, got {result}\")\n",
        "\n",
        "    print(\"All tests completed.\")\n",
        "\n",
        "test_get_count_vowels()"
      ]
    },
    {
      "cell_type": "markdown",
      "metadata": {
        "id": "t2ClV_Y0bbr6"
      },
      "source": [
        "# Задача 2\n",
        "Написать функцию на вход, которой подается строка. Функция должна вернуть true, если\n",
        "каждый символ в строке встречается только 1 раз, иначе должна вернуть false. Написать тесты для кода"
      ]
    },
    {
      "cell_type": "code",
      "execution_count": 72,
      "metadata": {
        "id": "FppbECao6VIz"
      },
      "outputs": [
        {
          "name": "stdout",
          "output_type": "stream",
          "text": [
            "Test passed for empty string: expected True, got True\n",
            "Test passed for many space in string: expected True, got True\n",
            "Test passed for 'Aa': expected True, got True\n",
            "Test passed for 'aba': expected False, got False\n",
            "Test passed for 'abc def': expected True, got True\n",
            "Test passed for 'abc gfa': expected False, got False\n",
            "All tests is complete\n"
          ]
        }
      ],
      "source": [
        "#в задаче считал, что разный регистр => разные знаки, а пробел это не символ \n",
        "def check_no_repeat(string: str) -> bool:\n",
        "    letters = []\n",
        "    for letter in string:\n",
        "        if letter.strip() == \"\":\n",
        "            continue\n",
        "        if letter in letters:\n",
        "            return False\n",
        "        letters.append(letter)\n",
        "    return True\n",
        "\n",
        "def test_check_no_repeat():\n",
        "    test_cases = [\n",
        "        (\"\", True, \"empty string\"),\n",
        "        (\"  \", True, \"many space in string\"),\n",
        "        (\"Aa\", True, \"'Aa'\"),\n",
        "        (\"aba\", False, \"'aba'\"),\n",
        "        (\"abc def\", True, \"'abc def'\"),\n",
        "        (\"abc gfa\", False, \"'abc gfa'\")\n",
        "    ]\n",
        "\n",
        "    for string, expected, description in test_cases:\n",
        "        result = check_no_repeat(string)\n",
        "        assert result == expected, f\"Test failed for {description}: expected {expected}, got {result}\"\n",
        "        print(f\"Test passed for {description}: expected {expected}, got {result}\")\n",
        "\n",
        "    print(\"All tests is complete\")\n",
        "\n",
        "test_check_no_repeat()"
      ]
    },
    {
      "cell_type": "markdown",
      "metadata": {
        "id": "udRiIK1cdt6E"
      },
      "source": [
        "# Задача 3\n",
        "Написать функцию, которая принимает положительное число и возвращает количество\n",
        "бит равных 1 в этом числе. Написать тесты для кода"
      ]
    },
    {
      "cell_type": "code",
      "execution_count": 73,
      "metadata": {
        "id": "6tkfDJRz6dp_"
      },
      "outputs": [
        {
          "name": "stdout",
          "output_type": "stream",
          "text": [
            "Test passed for '5' on binary '101': expected 2, got 2\n",
            "Test passed for '0' on binary '0: expected 0, got 0\n",
            "Test passed for '15' on binary '1111': expected 4, got 4\n",
            "All tests is complete\n"
          ]
        }
      ],
      "source": [
        "def get_count_one_bit(number: int) -> int:\n",
        "    return bin(number).count('1')\n",
        "\n",
        "def test_get_count_one_bit():\n",
        "    test_cases = [\n",
        "        (5, 2, \"'5' on binary '101'\"),\n",
        "        (0, 0, \"'0' on binary '0\"),\n",
        "        (15, 4, \"'15' on binary '1111'\")\n",
        "    ]\n",
        "\n",
        "    for number, expected, description in test_cases:\n",
        "        result = get_count_one_bit(number)\n",
        "        assert result == expected, print(f\"Test failed for {description}: expected {expected}, got {result}\")\n",
        "        print(f\"Test passed for {description}: expected {expected}, got {result}\")\n",
        "\n",
        "    print(\"All tests is complete\")\n",
        "\n",
        "test_get_count_one_bit()\n"
      ]
    },
    {
      "cell_type": "markdown",
      "metadata": {
        "id": "26dDUz-Ae17N"
      },
      "source": [
        "# Задача 4\n",
        "Написать функцию, которая принимает положительное число. Функция должна вернуть то,\n",
        "сколько раз необходимо перемножать цифры числа или результат перемножения, чтобы\n",
        "получилось число состоящее из одной цифры.\n",
        "Например, для входного числа:\n",
        "· 39 функция должна вернуть 3, так как 3*9=27 => 2*7=14 => 1*4=4\n",
        "· 4 функция должна вернуть 0, так как число уже состоит из одной цифры\n",
        "· 999 функция должна вернуть 4, так как 9*9*9=729 => 7*2*9=126 => 1*2*6=12 =>\n",
        "1*2=2. Написать тесты для кода"
      ]
    },
    {
      "cell_type": "code",
      "execution_count": 74,
      "metadata": {
        "id": "BH1A_Mgi6i4G"
      },
      "outputs": [
        {
          "name": "stdout",
          "output_type": "stream",
          "text": [
            "Test passed for 39: expected 3, got 3\n",
            "Test passed for 999: expected 4, got 4\n",
            "Test passed for 1: expected 0, got 0\n",
            "All tests is complete\n"
          ]
        }
      ],
      "source": [
        "import math\n",
        "\n",
        "def magic(n):\n",
        "    res_count = 0\n",
        "    if n % 100 < 10:\n",
        "        return res_count\n",
        "    \n",
        "    while n >= 10:\n",
        "        numbers = [int(x) for x in str(n)]\n",
        "        n = min(n**2, math.prod(numbers))\n",
        "        res_count += 1\n",
        "    return res_count\n",
        "\n",
        "def test_magic():\n",
        "    test_cases = [\n",
        "        (39, 3),\n",
        "        (999, 4),\n",
        "        (1, 0)\n",
        "    ]\n",
        "\n",
        "    for number, expected in test_cases:\n",
        "        result = magic(number)\n",
        "        assert result == expected, f\"Test failed for {number}: expected {expected}, got {result}\"\n",
        "        print(f\"Test passed for {number}: expected {expected}, got {result}\")\n",
        "\n",
        "    print(\"All tests is complete\")\n",
        "    \n",
        "test_magic()\n",
        "    "
      ]
    },
    {
      "cell_type": "markdown",
      "metadata": {
        "id": "0nS-kIa8g8vd"
      },
      "source": [
        "# Задача 5\n",
        "Написать функцию, которая принимает два целочисленных вектора одинаковой длины и\n",
        "возвращает среднеквадратическое отклонение двух векторов. Написать тесты для кода"
      ]
    },
    {
      "cell_type": "code",
      "execution_count": 58,
      "metadata": {
        "id": "8iphx4LM6xbx"
      },
      "outputs": [
        {
          "name": "stdout",
          "output_type": "stream",
          "text": [
            "Test case vector1 - [1, 2, 3] and vector2 - [2, 3, 4] passed: expected 1.0, got 1.0\n",
            "Test case vector1 - [1, 2, 3] and vector2 - [1, 2, 3] passed: expected 0.0, got 0.0\n",
            "Test case vector1 - [1, 1, 1] and vector2 - [4, 4, 4] passed: expected 3.0, got 3.0\n",
            "Test case vector1 - [0, 0, 0] and vector2 - [0, 0, 0] passed: expected 0.0, got 0.0\n",
            "Test case vector1 - [1, 2, 3, 4] and vector2 - [2, 3, 4, 5] passed: expected 1.0, got 1.0\n",
            "Test case vector1 - [1, 2, 3] and vector2 - [2, 2, 2] passed: expected 0.816496580927726, got 0.816496580927726\n",
            "All tests is complete\n"
          ]
        }
      ],
      "source": [
        "def mse(pred, true):\n",
        "    length = len(pred)\n",
        "    squared_diff_sum = sum((a - b) ** 2 for a, b in zip(pred, true))\n",
        "    return math.sqrt(squared_diff_sum / length)\n",
        "\n",
        "def test_mse():\n",
        "    test_cases = [\n",
        "        ([1, 2, 3], [2, 3, 4], 1.0),              \n",
        "        ([1, 2, 3], [1, 2, 3], 0.0),              \n",
        "        ([1, 1, 1], [4, 4, 4], 3.0),               \n",
        "        ([0, 0, 0], [0, 0, 0], 0.0),              \n",
        "        ([1, 2, 3, 4], [2, 3, 4, 5], 1.0),         \n",
        "        ([1, 2, 3], [2, 2, 2], math.sqrt(2/3)),\n",
        "    ]\n",
        "\n",
        "    for (vector1, vector2, expected) in test_cases:\n",
        "        result = mse(vector1, vector2)\n",
        "        assert math.isclose(result, expected, rel_tol=1e-9), \\\n",
        "            f\"Test case vector1 - {vector1} and vector2 - {vector2}failed: expected {expected}, got {result}\"\n",
        "        print(f\"Test case vector1 - {vector1} and vector2 - {vector2} passed: expected {expected}, got {result}\")\n",
        "    print(\"All tests is complete\")\n",
        "    \n",
        "test_mse()"
      ]
    },
    {
      "cell_type": "markdown",
      "metadata": {
        "id": "vpIPKL439zkw"
      },
      "source": [
        "# Задача 6\n",
        "Написать функцию, принимающая целое положительное число. Функция должна вернуть\n",
        "строку вида “(n1**p1)(n2**p2)…(nk**pk)” представляющая разложение числа на простые\n",
        "множители (если pi == 1, то выводить только ni).\n",
        "Например, для числа 86240 функция должна вернуть “(2**5)(5)(7**2)(11)”. Написать тесты для кода"
      ]
    },
    {
      "cell_type": "code",
      "execution_count": 79,
      "metadata": {
        "id": "pFebmcZk94Jw"
      },
      "outputs": [
        {
          "name": "stdout",
          "output_type": "stream",
          "text": [
            "Test passed for 86240: expected (2**5)(5)(7**2)(11), got (2**5)(5)(7**2)(11)\n",
            "Test passed for 60: expected (2**2)(3)(5), got (2**2)(3)(5)\n",
            "Test passed for 100: expected (2**2)(5**2), got (2**2)(5**2)\n",
            "Test passed for 13: expected (13), got (13)\n",
            "Test passed for 2: expected (2), got (2)\n",
            "Test passed for 1: expected (1), got (1)\n",
            "All tests completed.\n"
          ]
        }
      ],
      "source": [
        "#В описании задания выше почему то не отображается ** в 1 множетеле (2**5)\n",
        "def decomposition(n: int) -> str:\n",
        "    if n == 1:\n",
        "        return (\"(1)\")\n",
        "    i = 2\n",
        "    factors = {}\n",
        "    while i * i <= n:\n",
        "        while n % i == 0:\n",
        "            if i not in factors:\n",
        "                factors[i] = 0\n",
        "            factors[i] += 1\n",
        "            n //= i\n",
        "        i += 1\n",
        "    if n > 1:\n",
        "        if n not in factors:\n",
        "            factors[n] = 0\n",
        "        factors[n] += 1\n",
        "\n",
        "    res = \"\"\n",
        "    for key, value in factors.items():\n",
        "        if value > 1:\n",
        "            res += f\"({key}**{value})\"\n",
        "        else:\n",
        "            res += f\"({key})\"\n",
        "    return res\n",
        "\n",
        "def test_decomposition():\n",
        "    test_cases = [\n",
        "        (86240, \"(2**5)(5)(7**2)(11)\"),\n",
        "        (60, \"(2**2)(3)(5)\"),            \n",
        "        (100, \"(2**2)(5**2)\"),           \n",
        "        (13, \"(13)\"),                    \n",
        "        (2, \"(2)\"),\n",
        "        (1, \"(1)\") \n",
        "    ]\n",
        "    for value, expected in test_cases:\n",
        "        result = decomposition(value)\n",
        "        assert result == expected, f\"Test failed for {value}: expected {expected}, got {result}\"\n",
        "        print(f\"Test passed for {value}: expected {expected}, got {result}\")\n",
        "    print(\"All tests completed.\")\n",
        "\n",
        "test_decomposition()"
      ]
    },
    {
      "cell_type": "markdown",
      "metadata": {
        "id": "ps2s0BudX7A2"
      },
      "source": [
        "# Задача 7\n",
        "Написать функцию, принимающая целое число n, задающее количество кубиков. Функция\n",
        "должна определить, можно ли из данного кол-ва кубиков построить пирамиду, то есть\n",
        "можно ли представить число n как 1^2+2^2+3^2+…+k^2. Если можно, то функция должна\n",
        "вернуть k, иначе строку “It is impossible”. Написать тесты для кода"
      ]
    },
    {
      "cell_type": "code",
      "execution_count": 78,
      "metadata": {
        "id": "3YPjEXxhX_YT"
      },
      "outputs": [
        {
          "name": "stdout",
          "output_type": "stream",
          "text": [
            "Test passed for 5: expected 2, got 2\n",
            "Test passed for 14: expected 3, got 3\n",
            "Test passed for 30: expected 4, got 4\n",
            "Test passed for 50: expected It is impossible, got It is impossible\n",
            "Test passed for 55: expected 5, got 5\n",
            "Test passed for 100: expected It is impossible, got It is impossible\n",
            "All tests completed.\n"
          ]
        }
      ],
      "source": [
        "def pyramid(number):\n",
        "    k = 1\n",
        "    while True:\n",
        "        result = k * (k + 1) * (2 * k + 1) // 6\n",
        "        if result == number:\n",
        "            return k\n",
        "        if result > number:\n",
        "            return \"It is impossible\"\n",
        "        k += 1\n",
        "\n",
        "def test_pyramid():\n",
        "    test_cases = [\n",
        "        (5, 2),\n",
        "        (14, 3),\n",
        "        (30, 4),\n",
        "        (50, \"It is impossible\"),\n",
        "        (55, 5),\n",
        "        (100, \"It is impossible\")\n",
        "    ]\n",
        "\n",
        "    for value, expected in test_cases:\n",
        "        result = pyramid(value)\n",
        "        assert result == expected, f\"Test failed for {value}: expected {expected}, got {result}\"\n",
        "        print(f\"Test passed for {value}: expected {expected}, got {result}\")\n",
        "    print(\"All tests completed.\")\n",
        "\n",
        "test_pyramid()"
      ]
    },
    {
      "cell_type": "markdown",
      "metadata": {
        "id": "KeKgmIdAQMEJ"
      },
      "source": [
        "# Задача 8\n",
        "Функция принимает на вход положительное число и определяет является ли оно сбалансированным, т.е. сумма цифр до средних равна сумме цифр после. Средними в случае нечетного числа цифр считать одну цифру, в случае четного - две средних. Написать тесты для кода"
      ]
    },
    {
      "cell_type": "code",
      "execution_count": 81,
      "metadata": {
        "id": "gMAAqtqlQrZt"
      },
      "outputs": [
        {
          "name": "stdout",
          "output_type": "stream",
          "text": [
            "Test passed for 987789: expected True, got True\n",
            "Test passed for 1233: expected False, got False\n",
            "Test passed for 1: expected True, got True\n",
            "Test passed for 1001: expected True, got True\n",
            "Test passed for 0: expected True, got True\n",
            "Test passed for 2222: expected True, got True\n",
            "Test passed for 12344321: expected True, got True\n",
            "All tests completed.\n"
          ]
        }
      ],
      "source": [
        "def check_balanced_number(n: int) -> bool:\n",
        "    numbers = [int(x) for x in str(n)]\n",
        "    first = 0\n",
        "    second = 0\n",
        "    for i in range(len(numbers) // 2):\n",
        "        first += numbers[i]\n",
        "        second += numbers[len(numbers) - 1 - i]\n",
        "\n",
        "    if first == second:\n",
        "        return True\n",
        "    return False\n",
        "\n",
        "def test_check_balanced_number():\n",
        "    test_cases = [\n",
        "        (987789, True),  \n",
        "        (1233, False),   \n",
        "        (1, True),       \n",
        "        (1001, True),   \n",
        "        (0, True),       \n",
        "        (2222, True),    \n",
        "        (12344321, True)\n",
        "    ]\n",
        "\n",
        "    for value, expected in test_cases:\n",
        "        result = check_balanced_number(value)\n",
        "        assert expected == result, f\"Test failed for {value}: expected {expected}, got {result}\"\n",
        "        print(f\"Test passed for {value}: expected {expected}, got {result}\")\n",
        "    print(\"All tests completed.\")\n",
        "\n",
        "test_check_balanced_number()"
      ]
    }
  ],
  "metadata": {
    "colab": {
      "provenance": []
    },
    "kernelspec": {
      "display_name": "Python 3",
      "name": "python3"
    },
    "language_info": {
      "codemirror_mode": {
        "name": "ipython",
        "version": 3
      },
      "file_extension": ".py",
      "mimetype": "text/x-python",
      "name": "python",
      "nbconvert_exporter": "python",
      "pygments_lexer": "ipython3",
      "version": "3.11.9"
    }
  },
  "nbformat": 4,
  "nbformat_minor": 0
}
