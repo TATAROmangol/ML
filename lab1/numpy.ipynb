{
  "cells": [
    {
      "cell_type": "markdown",
      "metadata": {
        "id": "vC84e9kzyxPy"
      },
      "source": [
        "<h1>Импорт библиотек"
      ]
    },
    {
      "cell_type": "code",
      "execution_count": 3,
      "metadata": {
        "id": "cgKeNegmQG5S"
      },
      "outputs": [],
      "source": [
        "import numpy as np\n",
        "import matplotlib.pyplot as plt"
      ]
    },
    {
      "cell_type": "markdown",
      "metadata": {
        "id": "qFM9uVU2x4Ls"
      },
      "source": [
        "<h1>Задача 1. Дан набор из $p$ матриц размерностью $(n, n)$ и $p$ векторов размерностью $(n, 1)$, найти сумму произведений матриц на векторы. Написать тесты для кода"
      ]
    },
    {
      "cell_type": "code",
      "execution_count": 28,
      "metadata": {
        "id": "IAbUvEiYyWFF"
      },
      "outputs": [
        {
          "name": "stdout",
          "output_type": "stream",
          "text": [
            "Matrix:\n",
            "[[[1 2]\n",
            "  [3 4]]\n",
            "\n",
            " [[5 6]\n",
            "  [7 8]]]\n",
            "Vectors:\n",
            "[[1 1]\n",
            " [2 2]]\n",
            "Test passed: expected [25 37], got [[25 37]]\n",
            "\n",
            "Matrix:\n",
            "[[[-1 -2 -3]\n",
            "  [-4 -5 -6]\n",
            "  [-7 -8 -9]]\n",
            "\n",
            " [[ 1  2  3]\n",
            "  [ 4  5  6]\n",
            "  [ 7  8  9]]]\n",
            "Vectors:\n",
            "[[ 1  0 -1]\n",
            " [ 1  1  1]]\n",
            "Test passed: expected [ 8 17 26], got [[ 8 17 26]]\n",
            "\n",
            "All tests completed.\n"
          ]
        }
      ],
      "source": [
        "import numpy as np\n",
        "\n",
        "def sum_prod(X, V):\n",
        "    return np.sum([X[i].dot(V[i]) for i in range(len(X))], axis=0)\n",
        "\n",
        "def test_sum_prod():\n",
        "    test_cases = [\n",
        "        (\n",
        "            [  \n",
        "                np.matrix([[1, 2], [3, 4]]),\n",
        "                np.matrix([[5, 6], [7, 8]])\n",
        "            ],\n",
        "            [  \n",
        "                np.array([1, 1]),\n",
        "                np.array([2, 2])\n",
        "            ],\n",
        "            np.array([25, 37])\n",
        "        ),\n",
        "        (\n",
        "            [  \n",
        "                np.matrix([[-1, -2, -3], [-4, -5, -6], [-7, -8, -9]]),\n",
        "                np.matrix([[1, 2, 3], [4, 5, 6], [7, 8, 9]])\n",
        "            ],\n",
        "            [  \n",
        "                np.array([1, 0, -1]),\n",
        "                np.array([1, 1, 1])\n",
        "            ],\n",
        "            np.array([8, 17, 26]) \n",
        "        ),\n",
        "    ]\n",
        "\n",
        "    for matrix, vectors, expected in test_cases:\n",
        "        result = sum_prod(matrix, vectors)\n",
        "        print(f\"Matrix:\\n{np.array(matrix)}\\nVectors:\\n{np.array(vectors)}\")\n",
        "        assert np.allclose(result, expected), \\\n",
        "            f\"Test failed: expected {expected}, got {result}\"\n",
        "        print(f\"Test passed: expected {expected}, got {result}\\n\")\n",
        "\n",
        "    print(\"All tests completed.\")\n",
        "\n",
        "test_sum_prod()\n"
      ]
    },
    {
      "cell_type": "markdown",
      "metadata": {
        "id": "TKwPG4fIy2w4"
      },
      "source": [
        "<h1>Задача 2. Дана матрица M, напишите функцию, которая бинаризует матрицу по некоторому threshold (то есть, все значения большие threshold становятся равными 1, иначе 0). Напишите тесты для кода"
      ]
    },
    {
      "cell_type": "code",
      "execution_count": 36,
      "metadata": {
        "id": "KQDNMgsjRNH7"
      },
      "outputs": [
        {
          "name": "stdout",
          "output_type": "stream",
          "text": [
            "For test matrix:\n",
            "[[-2 -1  0]\n",
            " [ 1  2  3]\n",
            " [ 4  5  6]]\n",
            "Test passed for threshold = 0: expected \n",
            "[[0 0 0]\n",
            " [1 1 1]\n",
            " [1 1 1]], \n",
            "result\n",
            "[[0 0 0]\n",
            " [1 1 1]\n",
            " [1 1 1]]\n",
            "Test passed for threshold = -1: expected \n",
            "[[0 0 1]\n",
            " [1 1 1]\n",
            " [1 1 1]], \n",
            "result\n",
            "[[0 0 1]\n",
            " [1 1 1]\n",
            " [1 1 1]]\n",
            "Test passed for threshold = 2: expected \n",
            "[[0 0 0]\n",
            " [0 0 1]\n",
            " [1 1 1]], \n",
            "result\n",
            "[[0 0 0]\n",
            " [0 0 1]\n",
            " [1 1 1]]\n",
            "All tests completed.\n"
          ]
        }
      ],
      "source": [
        "import numpy as np\n",
        "\n",
        "def binarize(M, threshold=0.5):\n",
        "    return (M > threshold).astype(int)\n",
        "\n",
        "def test_binarize():\n",
        "    matrix = np.matrix([[-2,-1,0], [1,2,3], [4,5,6]])\n",
        "    test_cases = [\n",
        "        (0, np.matrix([[0, 0, 0], [1, 1, 1], [1, 1, 1]])),\n",
        "        (-1, np.matrix([[0, 0, 1], [1, 1, 1], [1, 1, 1]])), \n",
        "        (2, np.matrix([[0, 0, 0], [0, 0, 1], [1, 1, 1]]))  \n",
        "    ]\n",
        "    \n",
        "    print(\"For test matrix:\")\n",
        "    print(matrix)\n",
        "    for threshold, expected in test_cases:\n",
        "        result = binarize(matrix, threshold)\n",
        "        assert np.allclose(result, expected), \\\n",
        "            f\"Test failed for threshold = {threshold}: expected \\n{np.array(expected)}, \\nresult \\n{np.array(result)}\"\n",
        "        print(f\"Test passed for threshold = {threshold}: expected \\n{np.array(expected)}, \\nresult\\n{np.array(result)}\")\n",
        "    print(\"All tests completed.\")\n",
        "\n",
        "test_binarize()"
      ]
    },
    {
      "cell_type": "markdown",
      "metadata": {
        "id": "IY5L-h-7zWhN"
      },
      "source": [
        "<h1>Задача 3. Напишите функцию, которая возвращает уникальные элементы из каждой строки матрицы. Напишите такую же функцию, но для столбцов. Напишите тесты для кода"
      ]
    },
    {
      "cell_type": "code",
      "execution_count": null,
      "metadata": {
        "id": "-8dEZhR0SBC-"
      },
      "outputs": [],
      "source": [
        "def unique_rows(mat):\n",
        "    # Your code goes here\n",
        "    pass\n",
        "\n",
        "def unique_columns(mat):\n",
        "    # Your code goes here\n",
        "    pass"
      ]
    },
    {
      "cell_type": "markdown",
      "metadata": {
        "id": "roYAlo4Jz-lH"
      },
      "source": [
        "<h1>Задача 4. Напишите функцию, которая заполняет матрицу с размерами $(m, n)$ случайными числами, распределенными по нормальному закону. Затем считает мат. ожидание и дисперсию для каждого из столбцов и строк, а также строит для каждой строки и столбца гистограмму значений (использовать функцию hist из модуля matplotlib.plot)"
      ]
    },
    {
      "cell_type": "code",
      "execution_count": null,
      "metadata": {
        "id": "nZK_71hMSQzv"
      },
      "outputs": [],
      "source": [
        "# Your code goes here"
      ]
    },
    {
      "cell_type": "markdown",
      "metadata": {
        "id": "BDyATNdM0dJ2"
      },
      "source": [
        "<h1>Задача 5. Напишите функцию, которая заполняет матрицу $(m, n)$ в шахматном порядке заданными числами $a$ и $b$. Напишите тесты для кода"
      ]
    },
    {
      "cell_type": "code",
      "execution_count": null,
      "metadata": {
        "id": "RWNJYWQGecS6"
      },
      "outputs": [],
      "source": [
        "def chess(m, n, a, b):\n",
        "    # Your code goes here\n",
        "    pass"
      ]
    },
    {
      "cell_type": "markdown",
      "metadata": {
        "id": "-ymXLtTN0vB6"
      },
      "source": [
        "<h1>Задача 6. Напишите функцию, которая отрисовывает прямоугольник с заданными размерами (a, b) на изображении размера (m, n), цвет фона задайте в схеме RGB, как и цвет прямоугольника. Цвета также должны быть параметрами функции. Напишите аналогичную функцию но для овала с полуосями a и b. Напишите тесты для кода.\n",
        "Примечание: уравнение эллипса (границы овала) можно записать как:\n",
        "<h1>$\\frac{(x-x_0)^2}{a^2}+\\frac{(y-y_0)^2}{b^2}=1$"
      ]
    },
    {
      "cell_type": "code",
      "execution_count": 1,
      "metadata": {
        "id": "sNfl1t_kfOF4"
      },
      "outputs": [],
      "source": [
        "def draw_rectangle(a, b, m, n, rectangle_color, background_color):\n",
        "    # Your code goes here\n",
        "    pass\n",
        "\n",
        "def draw_ellipse(a, b, m, n, ellipse_color, background_color):\n",
        "    # Your code goes here\n",
        "    pass"
      ]
    },
    {
      "cell_type": "markdown",
      "metadata": {
        "id": "S82c38oz244H"
      },
      "source": [
        "<h1>Задача 7. Дан некий временной ряд. Для данного ряда нужно найти его: математическое ожидание, дисперсию, СКО, найти все локальные максимумы и минимумы (локальный максимум - это точка, которая больше своих соседних точек, а локальный минимум - это точка, которая меньше своих соседей), а также вычислить для данного ряда другой ряд, получаемый методом скользящего среднего с размером окна $p$.\n",
        "<h1>Примечание: метод скользящего среднего подразумевает нахождение среднего из подмножетсва ряда размером $p$"
      ]
    },
    {
      "cell_type": "code",
      "execution_count": null,
      "metadata": {
        "id": "Zb9mIVge5MMt"
      },
      "outputs": [],
      "source": [
        "# Your code goes here"
      ]
    },
    {
      "cell_type": "markdown",
      "metadata": {
        "id": "jPkylmOX5O9n"
      },
      "source": [
        "<h1> Задача 8. Дан некоторый вектор с целочисленными метками классов, напишите функцию, которая выполняет one-hot-encoding для данного вектора\n",
        "<h1> One-hot-encoding - представление, в котором на месте метки некоторого класса стоит 1, в остальных позициях стоит 0. Например для вектора [0, 2, 3, 0] one-hot-encoding выглядит как: [[1, 0, 0, 0], [0, 0, 1, 0], [0, 0, 0, 1], [1, 0, 0, 0]]"
      ]
    },
    {
      "cell_type": "code",
      "execution_count": null,
      "metadata": {
        "id": "Y-jlnZvw56lD"
      },
      "outputs": [],
      "source": [
        "# Your code goes here"
      ]
    }
  ],
  "metadata": {
    "colab": {
      "provenance": []
    },
    "kernelspec": {
      "display_name": "Python 3",
      "name": "python3"
    },
    "language_info": {
      "codemirror_mode": {
        "name": "ipython",
        "version": 3
      },
      "file_extension": ".py",
      "mimetype": "text/x-python",
      "name": "python",
      "nbconvert_exporter": "python",
      "pygments_lexer": "ipython3",
      "version": "3.11.9"
    }
  },
  "nbformat": 4,
  "nbformat_minor": 0
}
